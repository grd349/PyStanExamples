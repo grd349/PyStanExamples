{
 "cells": [
  {
   "cell_type": "markdown",
   "metadata": {},
   "source": [
    "# Simple Hierarchical Model using PyStan\n",
    "## The Red Clump\n",
    "\n",
    "We will make a data set that broadly represents a clean red clump sample of stars.  There will some intrinsic width in the sample and there will be measurement uncertainty."
   ]
  },
  {
   "cell_type": "code",
   "execution_count": 1,
   "metadata": {},
   "outputs": [],
   "source": [
    "import numpy as np\n",
    "import matplotlib.pyplot as plt\n",
    "import pystan\n",
    "import seaborn as sns"
   ]
  },
  {
   "cell_type": "markdown",
   "metadata": {},
   "source": [
    "Let's make the data first and examine it."
   ]
  },
  {
   "cell_type": "code",
   "execution_count": 42,
   "metadata": {},
   "outputs": [
    {
     "data": {
      "text/plain": [
       "<matplotlib.axes._subplots.AxesSubplot at 0x1105a3470>"
      ]
     },
     "execution_count": 42,
     "metadata": {},
     "output_type": "execute_result"
    },
    {
     "data": {
      "image/png": "[encoded data removed]",
      "text/plain": [
       "<matplotlib.figure.Figure at 0x11ad0f0b8>"
      ]
     },
     "metadata": {},
     "output_type": "display_data"
    }
   ],
   "source": [
    "npts = 10000\n",
    "sigma = 0.01\n",
    "mean = -1.61\n",
    "M_true = np.random.randn(npts) * sigma + mean\n",
    "unc = 0.1\n",
    "M = M_true + np.random.randn(npts) * unc\n",
    "sns.distplot(M)\n",
    "sns.distplot(M_true)"
   ]
  },
  {
   "cell_type": "markdown",
   "metadata": {},
   "source": [
    "Now we have to cope with the STAN model."
   ]
  },
  {
   "cell_type": "code",
   "execution_count": null,
   "metadata": {},
   "outputs": [
    {
     "name": "stderr",
     "output_type": "stream",
     "text": [
      "INFO:pystan:COMPILING THE C++ CODE FOR MODEL ClumpModel_d02a82a5732acf34e8056b90c12911cb NOW.\n"
     ]
    }
   ],
   "source": [
    "clump_model = '''\n",
    "data {\n",
    "    int<lower=0> N;\n",
    "    real M[N];\n",
    "    real<lower = 0> tau;\n",
    "}\n",
    "parameters {\n",
    "    real mu;\n",
    "    real<lower =0.001> sigma;\n",
    "    real Mi[N];\n",
    "}\n",
    "model {\n",
    "    Mi ~ normal(mu, sigma); //prior\n",
    "    M ~ normal(Mi, tau); // Measurement uncertainty\n",
    "}\n",
    "'''\n",
    "sm = pystan.StanModel(model_code=clump_model, model_name='ClumpModel')"
   ]
  },
  {
   "cell_type": "markdown",
   "metadata": {},
   "source": [
    "Now we run the sampler.  This is expected to make the sampler work hard!  We therfore increase then number iter and take care to look at the rhat statistic."
   ]
  },
  {
   "cell_type": "code",
   "execution_count": null,
   "metadata": {},
   "outputs": [
    {
     "name": "stderr",
     "output_type": "stream",
     "text": [
      "/usr/local/lib/python3.6/site-packages/pystan/misc.py:399: FutureWarning: Conversion of the second argument of issubdtype from `float` to `np.floating` is deprecated. In future, it will be treated as `np.float64 == np.dtype(float).type`.\n",
      "  elif np.issubdtype(np.asarray(v).dtype, float):\n"
     ]
    }
   ],
   "source": [
    "dat = {'N': len(M),\n",
    "      'M': M,\n",
    "      'tau': unc}\n",
    "fit = sm.sampling(data=dat, iter=80000, chains=4, pars=['mu', 'sigma'])\n",
    "fit.plot()"
   ]
  },
  {
   "cell_type": "code",
   "execution_count": 26,
   "metadata": {},
   "outputs": [
    {
     "name": "stdout",
     "output_type": "stream",
     "text": [
      "Inference for Stan model: ClumpModel_95333e7275e26dcb7787c611206a337a.\n",
      "4 chains, each with iter=80000; warmup=40000; thin=1; \n",
      "post-warmup draws per chain=40000, total post-warmup draws=160000.\n",
      "\n",
      "        mean se_mean     sd   2.5%    25%    50%    75%  97.5%  n_eff   Rhat\n",
      "mu     -1.61  1.4e-4 3.1e-3  -1.61  -1.61  -1.61   -1.6   -1.6    524   1.01\n",
      "sigma 9.8e-3  6.6e-4 6.3e-3 1.3e-3 4.7e-3 8.7e-3   0.01   0.02     92   1.04\n",
      "lp__  3920.1  102.22 785.15 2789.2 3306.9 3772.2 4384.6 5696.4     59   1.05\n",
      "\n",
      "Samples were drawn using NUTS at Wed Feb 14 14:43:22 2018.\n",
      "For each parameter, n_eff is a crude measure of effective sample size,\n",
      "and Rhat is the potential scale reduction factor on split chains (at \n",
      "convergence, Rhat=1).\n"
     ]
    }
   ],
   "source": [
    "print(fit)"
   ]
  }
 ],
 "metadata": {
  "kernelspec": {
   "display_name": "Python 3",
   "language": "python",
   "name": "python3"
  },
  "language_info": {
   "codemirror_mode": {
    "name": "ipython",
    "version": 3
   },
   "file_extension": ".py",
   "mimetype": "text/x-python",
   "name": "python",
   "nbconvert_exporter": "python",
   "pygments_lexer": "ipython3",
   "version": "3.6.4"
  }
 },
 "nbformat": 4,
 "nbformat_minor": 2
}
